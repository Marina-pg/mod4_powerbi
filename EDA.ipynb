{
 "cells": [
  {
   "cell_type": "code",
   "execution_count": 1,
   "id": "2dc5f60b",
   "metadata": {},
   "outputs": [],
   "source": [
    "import pandas as pd"
   ]
  },
  {
   "cell_type": "code",
   "execution_count": 2,
   "id": "bbd840b7",
   "metadata": {},
   "outputs": [],
   "source": [
    "df = pd.read_csv('Mental_Health_Lifestyle_Dataset.csv')"
   ]
  },
  {
   "cell_type": "code",
   "execution_count": 3,
   "id": "7645a204",
   "metadata": {},
   "outputs": [
    {
     "data": {
      "text/plain": [
       "Country                         object\n",
       "Age                              int64\n",
       "Gender                          object\n",
       "Exercise Level                  object\n",
       "Diet Type                       object\n",
       "Sleep Hours                    float64\n",
       "Stress Level                    object\n",
       "Mental Health Condition         object\n",
       "Work Hours per Week              int64\n",
       "Screen Time per Day (Hours)    float64\n",
       "Social Interaction Score       float64\n",
       "Happiness Score                float64\n",
       "dtype: object"
      ]
     },
     "execution_count": 3,
     "metadata": {},
     "output_type": "execute_result"
    }
   ],
   "source": [
    "df.dtypes"
   ]
  },
  {
   "cell_type": "code",
   "execution_count": null,
   "id": "581bbcc2",
   "metadata": {},
   "outputs": [],
   "source": []
  },
  {
   "cell_type": "code",
   "execution_count": 4,
   "id": "52bfec22",
   "metadata": {},
   "outputs": [
    {
     "data": {
      "text/html": [
       "<div>\n",
       "<style scoped>\n",
       "    .dataframe tbody tr th:only-of-type {\n",
       "        vertical-align: middle;\n",
       "    }\n",
       "\n",
       "    .dataframe tbody tr th {\n",
       "        vertical-align: top;\n",
       "    }\n",
       "\n",
       "    .dataframe thead th {\n",
       "        text-align: right;\n",
       "    }\n",
       "</style>\n",
       "<table border=\"1\" class=\"dataframe\">\n",
       "  <thead>\n",
       "    <tr style=\"text-align: right;\">\n",
       "      <th></th>\n",
       "      <th>Country</th>\n",
       "      <th>Age</th>\n",
       "      <th>Gender</th>\n",
       "      <th>Exercise Level</th>\n",
       "      <th>Diet Type</th>\n",
       "      <th>Sleep Hours</th>\n",
       "      <th>Stress Level</th>\n",
       "      <th>Mental Health Condition</th>\n",
       "      <th>Work Hours per Week</th>\n",
       "      <th>Screen Time per Day (Hours)</th>\n",
       "      <th>Social Interaction Score</th>\n",
       "      <th>Happiness Score</th>\n",
       "    </tr>\n",
       "  </thead>\n",
       "  <tbody>\n",
       "    <tr>\n",
       "      <th>0</th>\n",
       "      <td>Brazil</td>\n",
       "      <td>48</td>\n",
       "      <td>Male</td>\n",
       "      <td>Low</td>\n",
       "      <td>Vegetarian</td>\n",
       "      <td>6.3</td>\n",
       "      <td>Low</td>\n",
       "      <td>NaN</td>\n",
       "      <td>21</td>\n",
       "      <td>4.0</td>\n",
       "      <td>7.8</td>\n",
       "      <td>6.5</td>\n",
       "    </tr>\n",
       "    <tr>\n",
       "      <th>1</th>\n",
       "      <td>Australia</td>\n",
       "      <td>31</td>\n",
       "      <td>Male</td>\n",
       "      <td>Moderate</td>\n",
       "      <td>Vegan</td>\n",
       "      <td>4.9</td>\n",
       "      <td>Low</td>\n",
       "      <td>PTSD</td>\n",
       "      <td>48</td>\n",
       "      <td>5.2</td>\n",
       "      <td>8.2</td>\n",
       "      <td>6.8</td>\n",
       "    </tr>\n",
       "    <tr>\n",
       "      <th>2</th>\n",
       "      <td>Japan</td>\n",
       "      <td>37</td>\n",
       "      <td>Female</td>\n",
       "      <td>Low</td>\n",
       "      <td>Vegetarian</td>\n",
       "      <td>7.2</td>\n",
       "      <td>High</td>\n",
       "      <td>NaN</td>\n",
       "      <td>43</td>\n",
       "      <td>4.7</td>\n",
       "      <td>9.6</td>\n",
       "      <td>9.7</td>\n",
       "    </tr>\n",
       "    <tr>\n",
       "      <th>3</th>\n",
       "      <td>Brazil</td>\n",
       "      <td>35</td>\n",
       "      <td>Male</td>\n",
       "      <td>Low</td>\n",
       "      <td>Vegan</td>\n",
       "      <td>7.2</td>\n",
       "      <td>Low</td>\n",
       "      <td>Depression</td>\n",
       "      <td>43</td>\n",
       "      <td>2.2</td>\n",
       "      <td>8.2</td>\n",
       "      <td>6.6</td>\n",
       "    </tr>\n",
       "    <tr>\n",
       "      <th>4</th>\n",
       "      <td>Germany</td>\n",
       "      <td>46</td>\n",
       "      <td>Male</td>\n",
       "      <td>Low</td>\n",
       "      <td>Balanced</td>\n",
       "      <td>7.3</td>\n",
       "      <td>Low</td>\n",
       "      <td>Anxiety</td>\n",
       "      <td>35</td>\n",
       "      <td>3.6</td>\n",
       "      <td>4.7</td>\n",
       "      <td>4.4</td>\n",
       "    </tr>\n",
       "  </tbody>\n",
       "</table>\n",
       "</div>"
      ],
      "text/plain": [
       "     Country  Age  Gender Exercise Level   Diet Type  Sleep Hours  \\\n",
       "0     Brazil   48    Male            Low  Vegetarian          6.3   \n",
       "1  Australia   31    Male       Moderate       Vegan          4.9   \n",
       "2      Japan   37  Female            Low  Vegetarian          7.2   \n",
       "3     Brazil   35    Male            Low       Vegan          7.2   \n",
       "4    Germany   46    Male            Low    Balanced          7.3   \n",
       "\n",
       "  Stress Level Mental Health Condition  Work Hours per Week  \\\n",
       "0          Low                     NaN                   21   \n",
       "1          Low                    PTSD                   48   \n",
       "2         High                     NaN                   43   \n",
       "3          Low              Depression                   43   \n",
       "4          Low                 Anxiety                   35   \n",
       "\n",
       "   Screen Time per Day (Hours)  Social Interaction Score  Happiness Score  \n",
       "0                          4.0                       7.8              6.5  \n",
       "1                          5.2                       8.2              6.8  \n",
       "2                          4.7                       9.6              9.7  \n",
       "3                          2.2                       8.2              6.6  \n",
       "4                          3.6                       4.7              4.4  "
      ]
     },
     "execution_count": 4,
     "metadata": {},
     "output_type": "execute_result"
    }
   ],
   "source": [
    "df.head()"
   ]
  },
  {
   "cell_type": "code",
   "execution_count": 5,
   "id": "d99ecc08",
   "metadata": {},
   "outputs": [
    {
     "data": {
      "text/plain": [
       "(3000, 12)"
      ]
     },
     "execution_count": 5,
     "metadata": {},
     "output_type": "execute_result"
    }
   ],
   "source": [
    "df.shape"
   ]
  },
  {
   "cell_type": "code",
   "execution_count": 6,
   "id": "fec64ac6",
   "metadata": {},
   "outputs": [
    {
     "data": {
      "text/plain": [
       "array(['Brazil', 'Australia', 'Japan', 'Germany', 'India', 'Canada',\n",
       "       'USA'], dtype=object)"
      ]
     },
     "execution_count": 6,
     "metadata": {},
     "output_type": "execute_result"
    }
   ],
   "source": [
    "df['Country'].unique()"
   ]
  },
  {
   "cell_type": "code",
   "execution_count": 7,
   "id": "615da849",
   "metadata": {},
   "outputs": [
    {
     "data": {
      "text/plain": [
       "array(['Male', 'Female', 'Other'], dtype=object)"
      ]
     },
     "execution_count": 7,
     "metadata": {},
     "output_type": "execute_result"
    }
   ],
   "source": [
    "df['Gender'].unique()"
   ]
  },
  {
   "cell_type": "code",
   "execution_count": 23,
   "id": "a9a3b5c8",
   "metadata": {},
   "outputs": [
    {
     "data": {
      "text/plain": [
       "array([1024,  996,  980], dtype=int64)"
      ]
     },
     "execution_count": 23,
     "metadata": {},
     "output_type": "execute_result"
    }
   ],
   "source": [
    "df['Gender'].value_counts().unique()"
   ]
  },
  {
   "cell_type": "code",
   "execution_count": 8,
   "id": "077bc4fe",
   "metadata": {},
   "outputs": [
    {
     "data": {
      "text/plain": [
       "array(['Low', 'Moderate', 'High'], dtype=object)"
      ]
     },
     "execution_count": 8,
     "metadata": {},
     "output_type": "execute_result"
    }
   ],
   "source": [
    "df['Exercise Level'].unique()"
   ]
  },
  {
   "cell_type": "code",
   "execution_count": 10,
   "id": "fd874140",
   "metadata": {},
   "outputs": [
    {
     "data": {
      "text/plain": [
       "array(['Vegetarian', 'Vegan', 'Balanced', 'Junk Food', 'Keto'],\n",
       "      dtype=object)"
      ]
     },
     "execution_count": 10,
     "metadata": {},
     "output_type": "execute_result"
    }
   ],
   "source": [
    "df['Diet Type'].unique() "
   ]
  },
  {
   "cell_type": "code",
   "execution_count": 11,
   "id": "a1d0ee3d",
   "metadata": {},
   "outputs": [
    {
     "data": {
      "text/plain": [
       "array(['Low', 'High', 'Moderate'], dtype=object)"
      ]
     },
     "execution_count": 11,
     "metadata": {},
     "output_type": "execute_result"
    }
   ],
   "source": [
    "df['Stress Level'].unique() "
   ]
  },
  {
   "cell_type": "code",
   "execution_count": 15,
   "id": "c9539842",
   "metadata": {},
   "outputs": [
    {
     "data": {
      "text/plain": [
       "array(['No condition', 'PTSD', 'Depression', 'Anxiety', 'Bipolar'],\n",
       "      dtype=object)"
      ]
     },
     "execution_count": 15,
     "metadata": {},
     "output_type": "execute_result"
    }
   ],
   "source": [
    "df['Mental Health Condition'].unique() "
   ]
  },
  {
   "cell_type": "code",
   "execution_count": 16,
   "id": "990e1dfd",
   "metadata": {},
   "outputs": [
    {
     "data": {
      "text/plain": [
       "0.0"
      ]
     },
     "execution_count": 16,
     "metadata": {},
     "output_type": "execute_result"
    }
   ],
   "source": [
    "df['Mental Health Condition'].isnull().sum()/df.shape[0]*100"
   ]
  },
  {
   "cell_type": "code",
   "execution_count": 14,
   "id": "22f480e7",
   "metadata": {},
   "outputs": [],
   "source": [
    "df['Mental Health Condition'] = df['Mental Health Condition'].fillna('No condition')"
   ]
  },
  {
   "cell_type": "code",
   "execution_count": 25,
   "id": "41fa4768",
   "metadata": {},
   "outputs": [
    {
     "data": {
      "text/plain": [
       "39.46633333333333"
      ]
     },
     "execution_count": 25,
     "metadata": {},
     "output_type": "execute_result"
    }
   ],
   "source": [
    "df['Work Hours per Week'].mean()"
   ]
  },
  {
   "cell_type": "code",
   "execution_count": 21,
   "id": "624db266",
   "metadata": {},
   "outputs": [
    {
     "data": {
      "text/plain": [
       "Work Hours per Week\n",
       "26    94\n",
       "50    93\n",
       "55    92\n",
       "30    90\n",
       "27    88\n",
       "56    87\n",
       "46    85\n",
       "31    85\n",
       "33    84\n",
       "23    83\n",
       "36    83\n",
       "47    81\n",
       "41    81\n",
       "38    81\n",
       "32    80\n",
       "34    79\n",
       "48    77\n",
       "21    76\n",
       "42    76\n",
       "37    76\n",
       "53    74\n",
       "57    70\n",
       "44    70\n",
       "49    70\n",
       "22    70\n",
       "51    70\n",
       "35    69\n",
       "52    69\n",
       "54    68\n",
       "28    68\n",
       "58    68\n",
       "45    66\n",
       "24    66\n",
       "40    65\n",
       "20    64\n",
       "43    64\n",
       "29    61\n",
       "59    61\n",
       "39    59\n",
       "25    57\n",
       "Name: count, dtype: int64"
      ]
     },
     "execution_count": 21,
     "metadata": {},
     "output_type": "execute_result"
    }
   ],
   "source": [
    "df['Work Hours per Week'].sort_values().value_counts()"
   ]
  },
  {
   "cell_type": "code",
   "execution_count": 24,
   "id": "32408c6f",
   "metadata": {},
   "outputs": [],
   "source": [
    "df.to_csv('csv_limpio.csv')"
   ]
  }
 ],
 "metadata": {
  "kernelspec": {
   "display_name": "base",
   "language": "python",
   "name": "python3"
  },
  "language_info": {
   "codemirror_mode": {
    "name": "ipython",
    "version": 3
   },
   "file_extension": ".py",
   "mimetype": "text/x-python",
   "name": "python",
   "nbconvert_exporter": "python",
   "pygments_lexer": "ipython3",
   "version": "3.12.7"
  }
 },
 "nbformat": 4,
 "nbformat_minor": 5
}
